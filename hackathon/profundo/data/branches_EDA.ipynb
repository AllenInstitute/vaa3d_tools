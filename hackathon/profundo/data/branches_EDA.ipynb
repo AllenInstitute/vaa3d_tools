{
 "cells": [
  {
   "cell_type": "markdown",
   "metadata": {},
   "source": [
    "Questions:\n",
    "\n",
    "What is distribution of volume spanned by single branch?\n",
    "What is distribution of node spacing?\n",
    "What is distribution of radii?\n",
    "What is distribution of total nodes in a branch?\n",
    "What is distribution of total nodes in a cell?"
   ]
  },
  {
   "cell_type": "markdown",
   "metadata": {},
   "source": [
    "for each file\n",
    "\n",
    "read line by line\n",
    "extract coords\n",
    "calc euclidean distance from prev point\n",
    "keep track of min, max x/y/z\n",
    "return span of x/y/z\n",
    "calculate volume"
   ]
  },
  {
   "cell_type": "code",
   "execution_count": 12,
   "metadata": {},
   "outputs": [
    {
     "name": "stdout",
     "output_type": "stream",
     "text": [
      "61228 SWC files found\n"
     ]
    }
   ],
   "source": [
    "import os\n",
    "\n",
    "# get human trajectories\n",
    "fnames = []\n",
    "abs_paths = []\n",
    "for root, dirs, fnames_ in os.walk(\"../data/03_human_branches_splitted/\"):\n",
    "    fnames.extend(fnames_)\n",
    "    for f in fnames_:\n",
    "        relpath = os.path.join(root, f)\n",
    "        abs_path = os.path.abspath(relpath)\n",
    "        abs_paths.append(abs_path)\n",
    "\n",
    "if len(fnames) == 0:\n",
    "    raise Exception(\"No SWC files found. Please run data generating scripts from data_processing directory\")\n",
    "print(len(fnames), \"SWC files found\")"
   ]
  },
  {
   "cell_type": "code",
   "execution_count": 13,
   "metadata": {},
   "outputs": [],
   "source": [
    "import numpy as np\n",
    "# https://stackoverflow.com/a/15934081/4212158\n",
    "# catch np.sqrt RunTimeWarning as exception\n",
    "#np.seterr(all='raise')\n",
    "\n",
    "dim_spans = []\n",
    "node_distances = []\n",
    "volumes = []\n",
    "radii = []\n",
    "n_nodes_per_branch = []\n",
    "n_branches = 0\n",
    "n_skipped = 0\n",
    "fp_errors = 0\n",
    "\n",
    "for fpath in abs_paths:  # for each branch\n",
    "    x_coords = []\n",
    "    y_coords = []\n",
    "    z_coords = []\n",
    "    radii_ = []\n",
    "    n_nodes = 0\n",
    "    \n",
    "    input = open(fpath, \"r\")\n",
    "    prev = None  # the previous node\n",
    "    for line in input:  # for each node\n",
    "        n_nodes += 1\n",
    "        \n",
    "        # note: if the parent node is -1, then the child_node_id is the true identity of the root node\n",
    "        try:\n",
    "            _, _, x_coord, y_coord, z_coord, radius, _ = line.split()\n",
    "        except ValueError:\n",
    "            raise Exception(\"node is malformed\")\n",
    "        # convert string to f loat\n",
    "        x_coord, y_coord, z_coord, radius = [np.float(x) for x in [x_coord, y_coord, z_coord, radius]]\n",
    "            \n",
    "        if prev is not None:\n",
    "            try:\n",
    "                distance = np.sqrt((x_coord-prev[\"x\"])**2 +\n",
    "                              (y_coord-prev[\"y\"])**2 +\n",
    "                              (z_coord-prev[\"z\"])**2)\n",
    "                \n",
    "                node_distances.append(distance)\n",
    "            except FloatingPointError:\n",
    "                #print(x_coord, prev[\"x\"], y_coord, prev[\"y\"], z_coord, prev[\"z\"])\n",
    "                fp_errors += 1\n",
    "                print(\"x\", x_coord-prev[\"x\"]**2, type(x_coord))\n",
    "                print(\"y\", y_coord-prev[\"y\"]**2)\n",
    "                print(\"z\", z_coord-prev[\"z\"]**2, type(z_coord))\n",
    "                print(distance)\n",
    "                \n",
    "            x_coords.append(x_coord)\n",
    "            y_coords.append(y_coord)\n",
    "            z_coords.append(z_coord)\n",
    "            radii_.append(radius)\n",
    "            \n",
    "            \n",
    "        prev = {\"x\": x_coord, \"y\": y_coord, \"z\": z_coord}  # replace prev_node\n",
    "        \n",
    "    x_span = np.max(x_coords) - np.min(x_coords)\n",
    "    y_span = np.max(y_coords) - np.min(y_coords)\n",
    "    z_span = np.max(z_coords) - np.min(z_coords)\n",
    "    volume = x_span * y_span * z_span\n",
    "    \n",
    "    volumes.append(volume)\n",
    "    radii.extend(radii_)\n",
    "    dim_spans.extend([x_span, y_span, z_span])\n",
    "    n_nodes_per_branch.append(n_nodes)\n",
    "    \n",
    "    \n",
    "    n_branches += 1\n",
    "    \n",
    "    #print(\"branch {} completed\".format(n_branches))\n",
    "            \n",
    "    input.close()"
   ]
  },
  {
   "cell_type": "code",
   "execution_count": 14,
   "metadata": {},
   "outputs": [
    {
     "name": "stdout",
     "output_type": "stream",
     "text": [
      "0\n",
      "0\n"
     ]
    }
   ],
   "source": [
    "print(n_skipped)\n",
    "print(fp_errors)"
   ]
  },
  {
   "cell_type": "code",
   "execution_count": 66,
   "metadata": {},
   "outputs": [
    {
     "name": "stdout",
     "output_type": "stream",
     "text": [
      "False\n",
      "False\n"
     ]
    },
    {
     "data": {
      "image/png": "[encoded data removed]",
      "text/plain": [
       "<matplotlib.figure.Figure at 0x7f9614d78668>"
      ]
     },
     "metadata": {},
     "output_type": "display_data"
    }
   ],
   "source": [
    "import seaborn as sns\n",
    "import matplotlib.pyplot as plt\n",
    "\n",
    "print(np.any(np.isnan(dim_spans)))\n",
    "print(np.any(np.isinf(dim_spans)))\n",
    "sns.distplot(dim_spans)\n",
    "plt.title(\"Distribution of dimension spans\")\n",
    "plt.show()"
   ]
  },
  {
   "cell_type": "code",
   "execution_count": 18,
   "metadata": {},
   "outputs": [
    {
     "name": "stderr",
     "output_type": "stream",
     "text": [
      "/home/shit/bin/anaconda3/lib/python3.6/site-packages/statsmodels/nonparametric/kde.py:494: RuntimeWarning: invalid value encountered in true_divide\n",
      "  binned = fast_linbin(X,a,b,gridsize)/(delta*nobs)\n",
      "/home/shit/bin/anaconda3/lib/python3.6/site-packages/statsmodels/nonparametric/kdetools.py:34: RuntimeWarning: invalid value encountered in double_scalars\n",
      "  FAC1 = 2*(np.pi*bw/RANGE)**2\n",
      "/home/shit/bin/anaconda3/lib/python3.6/site-packages/numpy/core/_methods.py:26: RuntimeWarning: invalid value encountered in reduce\n",
      "  return umr_maximum(a, axis, None, out, keepdims)\n"
     ]
    },
    {
     "name": "stdout",
     "output_type": "stream",
     "text": [
      "Radii span:  1.0 1.0\n"
     ]
    },
    {
     "data": {
      "image/png": "[encoded data removed]",
      "text/plain": [
       "<matplotlib.figure.Figure at 0x7f961797ebe0>"
      ]
     },
     "metadata": {},
     "output_type": "display_data"
    }
   ],
   "source": [
    "sns.distplot(radii)\n",
    "plt.title(\"Distribution of node radii\")\n",
    "print(\"Radii span: \", np.min(radii), np.max(radii))"
   ]
  },
  {
   "cell_type": "markdown",
   "metadata": {},
   "source": [
    "All radii are exactly 1.0."
   ]
  },
  {
   "cell_type": "code",
   "execution_count": 19,
   "metadata": {},
   "outputs": [
    {
     "data": {
      "text/plain": [
       "Text(0.5,1,'Distribution of branch volumes')"
      ]
     },
     "execution_count": 19,
     "metadata": {},
     "output_type": "execute_result"
    },
    {
     "data": {
      "image/png": "[encoded data removed]",
      "text/plain": [
       "<matplotlib.figure.Figure at 0x7f962624a2e8>"
      ]
     },
     "metadata": {},
     "output_type": "display_data"
    }
   ],
   "source": [
    "sns.distplot(volumes)\n",
    "plt.title(\"Distribution of branch volumes\")"
   ]
  },
  {
   "cell_type": "markdown",
   "metadata": {},
   "source": [
    "# Internode distances"
   ]
  },
  {
   "cell_type": "code",
   "execution_count": 20,
   "metadata": {},
   "outputs": [
    {
     "data": {
      "text/plain": [
       "Text(0.5,1,'Distribution of inter-node distances')"
      ]
     },
     "execution_count": 20,
     "metadata": {},
     "output_type": "execute_result"
    },
    {
     "data": {
      "image/png": "[encoded data removed]",
      "text/plain": [
       "<matplotlib.figure.Figure at 0x7f961782c550>"
      ]
     },
     "metadata": {},
     "output_type": "display_data"
    }
   ],
   "source": [
    "sns.distplot(node_distances)\n",
    "plt.title(\"Distribution of inter-node distances\")\n"
   ]
  },
  {
   "cell_type": "code",
   "execution_count": 65,
   "metadata": {},
   "outputs": [
    {
     "data": {
      "text/plain": [
       "Text(0.5,1,'distribution of internode distance, with long tail chopped off')"
      ]
     },
     "execution_count": 65,
     "metadata": {},
     "output_type": "execute_result"
    },
    {
     "data": {
      "image/png": "[encoded data removed]",
      "text/plain": [
       "<matplotlib.figure.Figure at 0x7f9614d78978>"
      ]
     },
     "metadata": {},
     "output_type": "display_data"
    }
   ],
   "source": [
    "# https://stackoverflow.com/a/22546769/4212158\n",
    "n=80\n",
    "np.partition(node_distances, n)[n]\n",
    "n2=1200000  # throwing out the long tail\n",
    "points = np.partition(node_distances, n2)[:n2]\n",
    "sns.distplot(points)\n",
    "plt.title(\"distribution of internode distance, with long tail chopped off\")"
   ]
  },
  {
   "cell_type": "markdown",
   "metadata": {},
   "source": [
    "There are 80 nodes which were placed right on top of each other. The node distances have a very large tail, but the vast majority of distances are between 1 and 4."
   ]
  },
  {
   "cell_type": "code",
   "execution_count": 21,
   "metadata": {},
   "outputs": [
    {
     "data": {
      "text/plain": [
       "Text(0.5,1,'Distribution of # nodes per branch')"
      ]
     },
     "execution_count": 21,
     "metadata": {},
     "output_type": "execute_result"
    },
    {
     "data": {
      "image/png": "[encoded data removed]",
      "text/plain": [
       "<matplotlib.figure.Figure at 0x7f9617876400>"
      ]
     },
     "metadata": {},
     "output_type": "display_data"
    }
   ],
   "source": [
    "sns.distplot(n_nodes_per_branch)\n",
    "plt.title(\"Distribution of # nodes per branch\")"
   ]
  },
  {
   "cell_type": "markdown",
   "metadata": {},
   "source": [
    "Most branches have less than 75 nodes."
   ]
  },
  {
   "cell_type": "code",
   "execution_count": null,
   "metadata": {},
   "outputs": [],
   "source": []
  }
 ],
 "metadata": {
  "kernelspec": {
   "display_name": "Python 3",
   "language": "python",
   "name": "python3"
  },
  "language_info": {
   "codemirror_mode": {
    "name": "ipython",
    "version": 3
   },
   "file_extension": ".py",
   "mimetype": "text/x-python",
   "name": "python",
   "nbconvert_exporter": "python",
   "pygments_lexer": "ipython3",
   "version": "3.6.4"
  },
  "latex_envs": {
   "LaTeX_envs_menu_present": true,
   "autoclose": false,
   "autocomplete": true,
   "bibliofile": "biblio.bib",
   "cite_by": "apalike",
   "current_citInitial": 1,
   "eqLabelWithNumbers": true,
   "eqNumInitial": 1,
   "hotkeys": {
    "equation": "Ctrl-E",
    "itemize": "Ctrl-I"
   },
   "labels_anchors": false,
   "latex_user_defs": false,
   "report_style_numbering": false,
   "user_envs_cfg": false
  }
 },
 "nbformat": 4,
 "nbformat_minor": 2
}
