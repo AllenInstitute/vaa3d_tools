{
 "cells": [
  {
   "cell_type": "code",
   "execution_count": null,
   "metadata": {},
   "outputs": [],
   "source": [
    "from swc_io import get_fnames_and_abspath_from_dir, swc_to_dframe, resample_swc, dframe_to_swc\n",
    "import numpy as np\n",
    "import pandas as pd\n",
    "from threader import multithreading\n",
    "\n",
    "CUBES_DIR = \"../data/05_sampled_cubes\"\n",
    "MEAN_CENTERED_CUBES_DIR = \"../data/06_centered_cubes\"\n",
    "\n",
    "fnames, abs_paths = get_fnames_and_abspath_from_dir(CUBES_DIR)\n",
    "assert(len(fnames) > 0)\n",
    "\n",
    "def center_cube(fname, abs_path):\n",
    "    nodes = swc_to_dframe(abs_path)\n",
    "    \n",
    "    x_min = nodes.x.min()\n",
    "    x_halfspan = (nodes.x.max() - x_min)/2\n",
    "    # center x\n",
    "    nodes.x = nodes.x - (x_min + x_halfspan)\n",
    "    \n",
    "    y_min = nodes.y.min()\n",
    "    y_halfspan = (nodes.y.max() - y_min)/2\n",
    "    # center y\n",
    "    nodes.y = nodes.y - (y_min + y_halfspan)\n",
    "    \n",
    "    z_min = nodes.z.min()\n",
    "    z_halfspan = (nodes.z.max() - z_min)/2\n",
    "    # center z\n",
    "    nodes.z = nodes.z - (z_min + z_halfspan)\n",
    "    \n",
    "    #print(nodes.z.mean, nodes.x.mean, nodes.y.mean)\n",
    "    dframe_to_swc(fname, nodes, output_dir=MEAN_CENTERED_CUBES_DIR)\n",
    "    \n",
    "multithreading(center_cube, zip(fnames, abs_paths), 16)"
   ]
  },
  {
   "cell_type": "code",
   "execution_count": null,
   "metadata": {},
   "outputs": [],
   "source": []
  },
  {
   "cell_type": "code",
   "execution_count": null,
   "metadata": {},
   "outputs": [],
   "source": []
  },
  {
   "cell_type": "code",
   "execution_count": null,
   "metadata": {},
   "outputs": [],
   "source": []
  }
 ],
 "metadata": {
  "kernelspec": {
   "display_name": "Python 3",
   "language": "python",
   "name": "python3"
  },
  "language_info": {
   "codemirror_mode": {
    "name": "ipython",
    "version": 3
   },
   "file_extension": ".py",
   "mimetype": "text/x-python",
   "name": "python",
   "nbconvert_exporter": "python",
   "pygments_lexer": "ipython3",
   "version": "3.6.4"
  },
  "latex_envs": {
   "LaTeX_envs_menu_present": true,
   "autoclose": false,
   "autocomplete": true,
   "bibliofile": "biblio.bib",
   "cite_by": "apalike",
   "current_citInitial": 1,
   "eqLabelWithNumbers": true,
   "eqNumInitial": 1,
   "hotkeys": {
    "equation": "Ctrl-E",
    "itemize": "Ctrl-I"
   },
   "labels_anchors": false,
   "latex_user_defs": false,
   "report_style_numbering": false,
   "user_envs_cfg": false
  }
 },
 "nbformat": 4,
 "nbformat_minor": 2
}
