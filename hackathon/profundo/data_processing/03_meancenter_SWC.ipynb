{
 "cells": [
  {
   "cell_type": "code",
   "execution_count": 5,
   "metadata": {},
   "outputs": [
    {
     "ename": "AssertionError",
     "evalue": "",
     "output_type": "error",
     "traceback": [
      "\u001b[0;31m---------------------------------------------------------------------------\u001b[0m",
      "\u001b[0;31mAssertionError\u001b[0m                            Traceback (most recent call last)",
      "\u001b[0;32m<ipython-input-5-8e9ed6567185>\u001b[0m in \u001b[0;36m<module>\u001b[0;34m()\u001b[0m\n\u001b[1;32m      7\u001b[0m \u001b[0;34m\u001b[0m\u001b[0m\n\u001b[1;32m      8\u001b[0m \u001b[0mfnames\u001b[0m\u001b[0;34m,\u001b[0m \u001b[0mabs_paths\u001b[0m \u001b[0;34m=\u001b[0m \u001b[0mget_fnames_and_abspath_from_dir\u001b[0m\u001b[0;34m(\u001b[0m\u001b[0mUPSAMPLED_BRANCHES_DIR\u001b[0m\u001b[0;34m)\u001b[0m\u001b[0;34m\u001b[0m\u001b[0m\n\u001b[0;32m----> 9\u001b[0;31m \u001b[0;32massert\u001b[0m\u001b[0;34m(\u001b[0m\u001b[0mlen\u001b[0m\u001b[0;34m(\u001b[0m\u001b[0mfnames\u001b[0m\u001b[0;34m)\u001b[0m \u001b[0;34m>\u001b[0m \u001b[0;36m0\u001b[0m\u001b[0;34m)\u001b[0m\u001b[0;34m\u001b[0m\u001b[0m\n\u001b[0m\u001b[1;32m     10\u001b[0m \u001b[0;32mfor\u001b[0m \u001b[0mi\u001b[0m \u001b[0;32min\u001b[0m \u001b[0mrange\u001b[0m\u001b[0;34m(\u001b[0m\u001b[0mlen\u001b[0m\u001b[0;34m(\u001b[0m\u001b[0mfnames\u001b[0m\u001b[0;34m)\u001b[0m\u001b[0;34m)\u001b[0m\u001b[0;34m:\u001b[0m\u001b[0;34m\u001b[0m\u001b[0m\n\u001b[1;32m     11\u001b[0m     \u001b[0mnodes\u001b[0m \u001b[0;34m=\u001b[0m \u001b[0mswc_to_dframe\u001b[0m\u001b[0;34m(\u001b[0m\u001b[0mabs_paths\u001b[0m\u001b[0;34m[\u001b[0m\u001b[0mi\u001b[0m\u001b[0;34m]\u001b[0m\u001b[0;34m)\u001b[0m\u001b[0;34m\u001b[0m\u001b[0m\n",
      "\u001b[0;31mAssertionError\u001b[0m: "
     ]
    }
   ],
   "source": [
    "from swc_io import get_fnames_and_abspath_from_dir, swc_to_dframe, resample_swc, dframe_to_swc\n",
    "import numpy as np\n",
    "import pandas as pd\n",
    "\n",
    "UPSAMPLED_BRANCHES_DIR = \"../data/04_human_branches_filtered_upsampled\"\n",
    "MEAN_CENTERED_BRANCHES_DIR = \"../data/05_meancentered_branches\"\n",
    "\n",
    "fnames, abs_paths = get_fnames_and_abspath_from_dir(UPSAMPLED_BRANCHES_DIR)\n",
    "assert(len(fnames) > 0)\n",
    "for i in range(len(fnames)):\n",
    "    nodes = swc_to_dframe(abs_paths[i])\n",
    "    \n",
    "    x_min = nodes.x.min()\n",
    "    x_halfspan = (nodes.x.max() - x_min)/2\n",
    "    # center x\n",
    "    nodes.x = nodes.x - (x_min + x_halfspan)\n",
    "    \n",
    "    y_min = nodes.y.min()\n",
    "    y_halfspan = (nodes.y.max() - y_min)/2\n",
    "    # center y\n",
    "    nodes.y = nodes.y - (y_min + y_halfspan)\n",
    "    \n",
    "    z_min = nodes.z.min()\n",
    "    z_halfspan = (nodes.z.max() - z_min)/2\n",
    "    # center z\n",
    "    nodes.z = nodes.z - (z_min + z_halfspan)\n",
    "    \n",
    "    print(nodes.z.mean, nodes.x.mean, nodes.y.mean)"
   ]
  },
  {
   "cell_type": "code",
   "execution_count": null,
   "metadata": {},
   "outputs": [],
   "source": []
  },
  {
   "cell_type": "code",
   "execution_count": null,
   "metadata": {},
   "outputs": [],
   "source": []
  },
  {
   "cell_type": "code",
   "execution_count": null,
   "metadata": {},
   "outputs": [],
   "source": []
  }
 ],
 "metadata": {
  "kernelspec": {
   "display_name": "Python 3",
   "language": "python",
   "name": "python3"
  },
  "language_info": {
   "codemirror_mode": {
    "name": "ipython",
    "version": 3
   },
   "file_extension": ".py",
   "mimetype": "text/x-python",
   "name": "python",
   "nbconvert_exporter": "python",
   "pygments_lexer": "ipython3",
   "version": "3.6.4"
  },
  "latex_envs": {
   "LaTeX_envs_menu_present": true,
   "autoclose": false,
   "autocomplete": true,
   "bibliofile": "biblio.bib",
   "cite_by": "apalike",
   "current_citInitial": 1,
   "eqLabelWithNumbers": true,
   "eqNumInitial": 1,
   "hotkeys": {
    "equation": "Ctrl-E",
    "itemize": "Ctrl-I"
   },
   "labels_anchors": false,
   "latex_user_defs": false,
   "report_style_numbering": false,
   "user_envs_cfg": false
  }
 },
 "nbformat": 4,
 "nbformat_minor": 2
}
