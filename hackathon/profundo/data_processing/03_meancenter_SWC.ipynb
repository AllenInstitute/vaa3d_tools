{
 "cells": [
  {
   "cell_type": "code",
   "execution_count": 3,
   "metadata": {},
   "outputs": [],
   "source": [
    "from swc_io import get_fnames_and_abspath_from_dir, swc_to_dframe, resample_swc, dframe_to_swc\n",
    "import numpy as np\n",
    "import pandas as pd\n",
    "from threader import multithreading\n",
    "\n",
    "CUBES_DIR = \"../data/05_sampled_cubes\"\n",
    "ORIGIN_CUBES_DIR = \"../data/06_origin_cubes\"\n",
    "\n",
    "fnames, abs_paths = get_fnames_and_abspath_from_dir(CUBES_DIR)\n",
    "assert(len(fnames) > 0)\n",
    "\n",
    "def cube_to_origin(fname, abs_path):\n",
    "    nodes = swc_to_dframe(abs_path)\n",
    "    \n",
    "    nodes.x = nodes.x - nodes.x.min()\n",
    "    nodes.y = nodes.y - nodes.y.min()\n",
    "    nodes.z = nodes.z - nodes.z.min()\n",
    "    \n",
    "    #print(nodes.z.mean, nodes.x.mean, nodes.y.mean)\n",
    "    dframe_to_swc(fname, nodes, output_dir=ORIGIN_CUBES_DIR)\n",
    "    \n",
    "_ = multithreading(cube_to_origin, zip(fnames, abs_paths), 50)"
   ]
  },
  {
   "cell_type": "code",
   "execution_count": null,
   "metadata": {},
   "outputs": [],
   "source": []
  },
  {
   "cell_type": "code",
   "execution_count": null,
   "metadata": {},
   "outputs": [],
   "source": []
  },
  {
   "cell_type": "code",
   "execution_count": null,
   "metadata": {},
   "outputs": [],
   "source": []
  }
 ],
 "metadata": {
  "kernelspec": {
   "display_name": "Python 3",
   "language": "python",
   "name": "python3"
  },
  "language_info": {
   "codemirror_mode": {
    "name": "ipython",
    "version": 3
   },
   "file_extension": ".py",
   "mimetype": "text/x-python",
   "name": "python",
   "nbconvert_exporter": "python",
   "pygments_lexer": "ipython3",
   "version": "3.6.4"
  },
  "latex_envs": {
   "LaTeX_envs_menu_present": true,
   "autoclose": false,
   "autocomplete": true,
   "bibliofile": "biblio.bib",
   "cite_by": "apalike",
   "current_citInitial": 1,
   "eqLabelWithNumbers": true,
   "eqNumInitial": 1,
   "hotkeys": {
    "equation": "Ctrl-E",
    "itemize": "Ctrl-I"
   },
   "labels_anchors": false,
   "latex_user_defs": false,
   "report_style_numbering": false,
   "user_envs_cfg": false
  }
 },
 "nbformat": 4,
 "nbformat_minor": 2
}
