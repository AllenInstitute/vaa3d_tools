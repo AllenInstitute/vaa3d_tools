{
 "cells": [
  {
   "cell_type": "markdown",
   "metadata": {},
   "source": [
    "# EDA on raw data"
   ]
  },
  {
   "cell_type": "markdown",
   "metadata": {},
   "source": [
    "Questions:\n",
    "\n",
    "What is distribution of volume spanned by single branch?\n",
    "What is distribution of node spacing?\n",
    "What is distribution of radii?\n",
    "What is distribution of total nodes in a branch?\n",
    "What is distribution of total nodes in a cell?"
   ]
  },
  {
   "cell_type": "code",
   "execution_count": null,
   "metadata": {},
   "outputs": [],
   "source": [
    "import os\n",
    "\n",
    "# get human trajectories\n",
    "fnames = []\n",
    "abs_paths = []\n",
    "for root, dirs, fnames_ in os.walk(\"../data/01_raw_human_annotations\"):\n",
    "    fnames.extend(fnames_)\n",
    "    for f in fnames_:\n",
    "        relpath = os.path.join(root, f)\n",
    "        abs_path = os.path.abspath(relpath)\n",
    "        abs_paths.append(abs_path)\n",
    "\n",
    "if len(fnames) == 0:\n",
    "    raise Exception(\"No SWC files found. Please run data generating scripts from data_processing directory\")\n",
    "print(len(fnames), \"SWC files found\")"
   ]
  },
  {
   "cell_type": "code",
   "execution_count": null,
   "metadata": {},
   "outputs": [],
   "source": []
  }
 ],
 "metadata": {
  "kernelspec": {
   "display_name": "Python 3",
   "language": "python",
   "name": "python3"
  },
  "language_info": {
   "codemirror_mode": {
    "name": "ipython",
    "version": 3
   },
   "file_extension": ".py",
   "mimetype": "text/x-python",
   "name": "python",
   "nbconvert_exporter": "python",
   "pygments_lexer": "ipython3",
   "version": "3.6.4"
  }
 },
 "nbformat": 4,
 "nbformat_minor": 2
}
