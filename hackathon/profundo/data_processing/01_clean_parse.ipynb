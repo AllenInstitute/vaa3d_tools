{
 "cells": [
  {
   "cell_type": "markdown",
   "metadata": {},
   "source": [
    "# Initial data processing"
   ]
  },
  {
   "cell_type": "markdown",
   "metadata": {},
   "source": [
    "## Cleaning the data"
   ]
  },
  {
   "cell_type": "markdown",
   "metadata": {},
   "source": [
    "We are using human-generated neural reconstructions as our ground truth. The first step is to get rid of comments in the header of the file"
   ]
  },
  {
   "cell_type": "code",
   "execution_count": 1,
   "metadata": {},
   "outputs": [],
   "source": [
    "from swc_io import get_fnames_and_abspath_from_dir, remove_comments_from_swc\n",
    "\n",
    "# get human trajectories\n",
    "RAW_HUMAN_TRAJECTORY_DIR = \"../data/01_raw_human_annotations/\"\n",
    "\n",
    "fnames, abs_paths = get_fnames_and_abspath_from_dir(RAW_HUMAN_TRAJECTORY_DIR)\n",
    "remove_comments_from_swc(abs_paths, fnames)"
   ]
  },
  {
   "cell_type": "markdown",
   "metadata": {},
   "source": [
    "Next, we need to split each file into its component branches. The SWC files have the following columns:\n",
    "\n",
    "`node_id type x_coordinate y_coordinate z_coordinate radius parent_node`\n",
    "\n",
    "First, I convert the SWC file into a linked list."
   ]
  },
  {
   "cell_type": "code",
   "execution_count": 2,
   "metadata": {},
   "outputs": [],
   "source": [
    "# moved code to its own script\n",
    "from swc_io import swc_to_linked_list"
   ]
  },
  {
   "cell_type": "markdown",
   "metadata": {},
   "source": [
    "## Chopping  reconstructions into individual branches\n",
    "\n",
    "I start tracing the neuron starting at each root node, which by convention has a parent_node_id of -1. From each root node, I start to grow the branch"
   ]
  },
  {
   "cell_type": "code",
   "execution_count": 3,
   "metadata": {},
   "outputs": [],
   "source": [
    "def chop_graph(fname: str, linked_list: dict):\n",
    "    \"\"\"take a single reconstruction, and chop it up at every fork\"\"\"\n",
    "    assert isinstance(linked_list, dict)\n",
    "    \n",
    "    root_nodes = linked_list[\"-1\"]\n",
    "    for i, root_node in enumerate(root_nodes):\n",
    "        #print(\"scanning {} root node {} of {}\".format(fname, i, len(root_nodes)))\n",
    "        root_node_id, _x_coord, _y_coord, _z_coord = root_node\n",
    "        assert(len(root_node) == 4  and isinstance(root_node, tuple))\n",
    "        #print(\"root node \", root_node)\n",
    "\n",
    "        child_nodes = linked_list[root_node_id]\n",
    "        for j, child_node in enumerate(child_nodes):\n",
    "            #print(\"starting child {} of {}\".format(j, len(child_nodes)))\n",
    "            #print(\"child node \", child_node)\n",
    "            child_node_id,  _x_coord, _y_coord, _z_coord = child_node\n",
    "            assert(len(child_node) == 4  and isinstance(child_node, tuple))\n",
    "            branch_name = \"_\".join([fname, \"root{}\".format(root_node_id), \"child{}\".format(child_node_id)])\n",
    "            grow_branch(linked_list, root_node, child_node, branch_name)\n",
    "            \n",
    "            "
   ]
  },
  {
   "cell_type": "markdown",
   "metadata": {},
   "source": [
    "I grow each branch until I encounter a fork. Forks are easy to find because the parent node will have more than one child. When the "
   ]
  },
  {
   "cell_type": "code",
   "execution_count": 4,
   "metadata": {},
   "outputs": [],
   "source": [
    "from swc_io import save_branch_as_swc\n",
    "\n",
    "def grow_branch(linked_list: dict, root_node: tuple, first_child_node: tuple, branch_name: str):\n",
    "    \"\"\"grow the branch until there's a fork\"\"\"\n",
    "    assert isinstance(linked_list, dict)\n",
    "    assert isinstance(root_node, tuple)\n",
    "    assert isinstance(first_child_node, tuple)\n",
    "    \n",
    "    # initialize the branch\n",
    "    #print(\"new branch started: {}\".format(branch_name))\n",
    "    branch = [root_node, first_child_node]\n",
    "    \n",
    "    end_found = False\n",
    "    parent_node = first_child_node\n",
    "    while not end_found:\n",
    "        if (len(branch) % 1500 == 0):\n",
    "            print(\"{} nodes processed\".format(len(branch)))\n",
    "        \n",
    "        # num nodes in a branch should never be > #nodes in whole tree\n",
    "        if (len(branch) > len(linked_list)):\n",
    "            print(branch)\n",
    "            raise Exception(\"this is growing out of control\")\n",
    "        try:\n",
    "            parent_node_id = parent_node[0]\n",
    "            child_nodes = linked_list[parent_node_id]\n",
    "            assert(isinstance(child_nodes, list))\n",
    "            if len(child_nodes) > 1: # fork found, chop some more\n",
    "                #print(\"fork found after {} nodes\".format(len(branch)))\n",
    "                save_branch_as_swc(branch, branch_name)\n",
    "                for i, child_node in enumerate(child_nodes):\n",
    "                    child_node_id = child_node[0]\n",
    "                    child_branch_name = \"_\".join(branch_name, \"grandchild{}\".format(child_node_id))\n",
    "                    grow_branch(linked_list, parent_node, child_node)\n",
    "                end_found = True\n",
    "            elif len(child_nodes) == 0:  # no more children, end of branch\n",
    "                #print(\"end of branch {} found after {} nodes\".format(branch_name, len(branch)))\n",
    "                save_branch_as_swc(branch, branch_name)\n",
    "                end_found = True\n",
    "            else:  # no branch, so only one child node\n",
    "                assert (len(child_nodes) == 1)\n",
    "                child_node = child_nodes[0]  # should be list w single tuple\n",
    "                branch.append(child_node)  # should be just 1 node\n",
    "                child_node_id = child_node[0]  # unpack node from list first\n",
    "                assert child_node != parent_node\n",
    "                parent_node = child_node  # start new round\n",
    "        except:\n",
    "            raise\n",
    "                "
   ]
  },
  {
   "cell_type": "markdown",
   "metadata": {},
   "source": [
    "Finally, save each branch as its own SWC file. Reminder, the column order convention is \n",
    "\n",
    "`node_id type x_coordinate y_coordinate z_coordinate radius parent_node`"
   ]
  },
  {
   "cell_type": "code",
   "execution_count": 5,
   "metadata": {},
   "outputs": [],
   "source": [
    "# moved to separate script"
   ]
  },
  {
   "cell_type": "markdown",
   "metadata": {},
   "source": [
    "Now, we can go through the list of clean files and actually split everything."
   ]
  },
  {
   "cell_type": "code",
   "execution_count": 6,
   "metadata": {},
   "outputs": [],
   "source": [
    "CLEAN_SWC_DIR = \"../data/02_human_clean/\"\n",
    "clean_fnames, clean_files_abspath = get_fnames_and_abspath_from_dir(CLEAN_SWC_DIR)\n",
    "assert len(clean_files_abspath) == len(clean_fnames), \"# file paths and fnames don't match: {} and {}\".format(len(clean_files), len(fnames))\n",
    "\n",
    "#linked_lists = []\n",
    "for i in range(len(fnames)):\n",
    "    #print(\"#{} parsing {} to linked list\".format(i, fnames[i]))\n",
    "    linked_list = swc_to_linked_list(clean_files_abspath[i])\n",
    "    #print(\"#{} splitting {} to branches\".format(i, fnames[i]))\n",
    "    chop_graph(clean_fnames[i], linked_list)"
   ]
  },
  {
   "cell_type": "code",
   "execution_count": null,
   "metadata": {},
   "outputs": [],
   "source": []
  },
  {
   "cell_type": "code",
   "execution_count": null,
   "metadata": {},
   "outputs": [],
   "source": []
  }
 ],
 "metadata": {
  "kernelspec": {
   "display_name": "Python 3",
   "language": "python",
   "name": "python3"
  },
  "language_info": {
   "codemirror_mode": {
    "name": "ipython",
    "version": 3
   },
   "file_extension": ".py",
   "mimetype": "text/x-python",
   "name": "python",
   "nbconvert_exporter": "python",
   "pygments_lexer": "ipython3",
   "version": "3.6.5"
  },
  "latex_envs": {
   "LaTeX_envs_menu_present": true,
   "autoclose": false,
   "autocomplete": true,
   "bibliofile": "biblio.bib",
   "cite_by": "apalike",
   "current_citInitial": 1,
   "eqLabelWithNumbers": true,
   "eqNumInitial": 1,
   "hotkeys": {
    "equation": "Ctrl-E",
    "itemize": "Ctrl-I"
   },
   "labels_anchors": false,
   "latex_user_defs": false,
   "report_style_numbering": false,
   "user_envs_cfg": false
  }
 },
 "nbformat": 4,
 "nbformat_minor": 1
}
