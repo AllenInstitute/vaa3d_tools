{
 "cells": [
  {
   "cell_type": "markdown",
   "metadata": {},
   "source": [
    "We want the neural net to be given the same size volume at each episode.\n",
    "\n",
    "\n",
    "\n",
    "First, we upsample the SWC files to make sure to get rid of huge inter-node distances, which can cause problems when trying to render a volume.\n",
    "\n",
    "Before running the `resample_swc` script, this are the steps that Yang took:\n",
    "\n",
    "He went to 'v3d_tools/release_plugins/v3d_plugins/resample_swc' and ran `qmake` and then `make`. He made some symbolic links to the main `v3d_external` folder.\n",
    "\n",
    "Then, to run the `resample_swc` script, simply run `/path/to/v3d_external/bin/vaa3d -x resample_swc -f resample_swc -i <input_file> -o <output_file>`.\n",
    "\n",
    "We need to get the resample_swc file directory"
   ]
  },
  {
   "cell_type": "markdown",
   "metadata": {},
   "source": [
    "we check to see if the branch is at least as big as the target volume before we sample nodes from it.\n",
    "\n",
    "I tried minimum dimension cut-off of 25, but no branches met that criteria."
   ]
  },
  {
   "cell_type": "code",
   "execution_count": null,
   "metadata": {},
   "outputs": [],
   "source": [
    "from swc_io import get_fnames_and_abspath_from_dir, swc_to_dframe, resample_swc, dframe_to_swc\n",
    "import numpy as np\n",
    "import pandas as pd\n",
    "\n",
    "\n",
    "BRANCHES_DIR = \"../data/03_human_branches_splitted\"\n",
    "UPSAMPLED_BRANCHES_DIR = \"../data/04_human_branches_filtered_upsampled\"\n",
    "\n",
    "import tkinter as tk\n",
    "from tkinter import filedialog\n",
    "\n",
    "root = tk.Tk()\n",
    "root.withdraw()\n",
    "\n",
    "vaa3d_path = filedialog.askopenfilename(title='Select compiled Vaa3d binary')\n",
    "\n",
    "fnames, abs_paths = get_fnames_and_abspath_from_dir(BRANCHES_DIR)\n",
    "total_dim = 0\n",
    "for i in range(len(fnames)):\n",
    "    # upsample the SWC\n",
    "    upsampled_fpath = resample_swc(fnames[i], abs_paths[i], vaa3d_path)\n",
    "  "
   ]
  },
  {
   "cell_type": "code",
   "execution_count": null,
   "metadata": {},
   "outputs": [],
   "source": [
    "# tested size 25, but no branches met this criteria\n",
    "TARGET_DIM_SIZE = 10.  # size in pixels for all x,y,z dims\n",
    "half_size = TARGET_DIM_SIZE / 2\n",
    "#min_swc_dim_span = TARGET_DIM_SIZE + 5  # some leeway to make things easy\n",
    "padding = TARGET_DIM_SIZE//2\n",
    "\n",
    "print(\"filtering branches that have any dimension smaller than \", TARGET_DIM_SIZE)\n",
    "\n",
    "fnames, abs_paths = get_fnames_and_abspath_from_dir(UPSAMPLED_BRANCHES_DIR)\n",
    "total_dim = 0\n",
    "for i in range(len(fnames)):\n",
    "    \n",
    "        # replace nodes with our upsampled nodes\n",
    "        nodes = swc_to_dframe(upsampled_fpath)\n",
    "    \n",
    "    if i % 1000 == 0 and i != 0: print(\"testing branch #\", i, \"avg span: \", total_dim/i/3)\n",
    "    nodes = swc_to_dframe(abs_paths[i])\n",
    "    assert(isinstance(nodes, pd.DataFrame))\n",
    "    \n",
    "    x_span = nodes.x.max() - nodes.x.min()\n",
    "    y_span = nodes.y.max() - nodes.y.min()\n",
    "    z_span = nodes.z.max() - nodes.z.min()\n",
    "    \n",
    "    total_dim = total_dim + x_span + y_span + z_span\n",
    "    \n",
    "    dim_size_good = np.array([x_span, y_span, z_span]) > TARGET_DIM_SIZE\n",
    "    if z_span > TARGET_DIM_SIZE:   print(\"found z bigger than {}: {}\".format(int(TARGET_DIM_SIZE), z_span))\n",
    "    if np.all(dim_size_good):  # our SWC meets our criteria\n",
    "        print(\"{} is big enough\".format(i))\n",
    "        \n",
    "        # upsample the SWC\n",
    "        upsampled_fpath = resample_swc(fnames, abs_paths[i])\n",
    "        # replace nodes with our upsampled nodes\n",
    "        nodes = swc_to_dframe(upsampled_fpath)\n",
    "        \n",
    "        # find nodes far enough away from bounds\n",
    "        central_nodes = nodes.loc[(nodes.x.between(nodes.x.min()+padding,nodes.x.max()+padding)) &\n",
    "                              (nodes.y.between(nodes.y.min()+padding,nodes.y.max()+padding)) &\n",
    "                              (nodes.z.between(nodes.z.min()+padding,nodes.z.max()+padding))]\n",
    "        \n",
    "        if len(central_nodes) > 0:\n",
    "            # sample a central node\n",
    "            center_node = central_nodes.sample(n=1)\n",
    "            # grab all nodes in neighborhood of center_node\n",
    "            sample = nodes.loc[(nodes.x.between(center_node.x.item()-half_size, center_node.x.item()+half_size)) &\n",
    "                              (nodes.y.between(center_node.y.item()-half_size, center_node.y.item()+half_size)) &\n",
    "                              (nodes.z.between(center_node.z.item()-half_size, center_node.z.item()+half_size))]\n",
    "            \n",
    "            # save sample to swc\n",
    "            print(\"saving \", fnames[i])\n",
    "            dframe_to_swc(fnames[i], sample)\n",
    "    else:  # SWC does not have large enough dims\n",
    "        #print(\"dims too small \", x_span, y_span, z_span) \n",
    "        pass\n",
    "    \n",
    "    "
   ]
  },
  {
   "cell_type": "markdown",
   "metadata": {},
   "source": [
    "Next, we want to only randomly sample from nodes sufficiently far away from the boundary"
   ]
  },
  {
   "cell_type": "code",
   "execution_count": null,
   "metadata": {},
   "outputs": [],
   "source": [
    "# sample from the SWC\n",
    "# first, we won't pick nodes too close to the edges\n",
    "#filtered_nodes = np.where()\n",
    "#print(\"dim sizes are good\")\n",
    "\n",
    "for swc_file in good_swc_paths[:1]: # TODO remove slice\n",
    "    nodes = good_swcs[swc_file]\n",
    "    good_nodes = "
   ]
  },
  {
   "cell_type": "code",
   "execution_count": null,
   "metadata": {},
   "outputs": [],
   "source": []
  }
 ],
 "metadata": {
  "kernelspec": {
   "display_name": "Python 3",
   "language": "python",
   "name": "python3"
  },
  "language_info": {
   "codemirror_mode": {
    "name": "ipython",
    "version": 3
   },
   "file_extension": ".py",
   "mimetype": "text/x-python",
   "name": "python",
   "nbconvert_exporter": "python",
   "pygments_lexer": "ipython3",
   "version": "3.6.4"
  },
  "latex_envs": {
   "LaTeX_envs_menu_present": true,
   "autoclose": false,
   "autocomplete": true,
   "bibliofile": "biblio.bib",
   "cite_by": "apalike",
   "current_citInitial": 1,
   "eqLabelWithNumbers": true,
   "eqNumInitial": 1,
   "hotkeys": {
    "equation": "Ctrl-E",
    "itemize": "Ctrl-I"
   },
   "labels_anchors": false,
   "latex_user_defs": false,
   "report_style_numbering": false,
   "user_envs_cfg": false
  }
 },
 "nbformat": 4,
 "nbformat_minor": 2
}
