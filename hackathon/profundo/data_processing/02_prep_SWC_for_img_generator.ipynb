{
 "cells": [
  {
   "cell_type": "markdown",
   "metadata": {},
   "source": [
    "We want the neural net to be given the same size volume at each episode.\n",
    "\n",
    "\n",
    "\n",
    "First, we upsample the SWC files to make sure to get rid of huge inter-node distances, which can cause problems when trying to render a volume.\n",
    "\n",
    "Before running the `resample_swc` script, this are the steps that Yang took:\n",
    "\n",
    "He went to 'v3d_tools/release_plugins/v3d_plugins/resample_swc' and ran `qmake` and then `make`. He made some symbolic links to the main `v3d_external` folder.\n",
    "\n",
    "Then, to run the `resample_swc` script, simply run `/path/to/v3d_external/bin/vaa3d -x resample_swc -f resample_swc -i <input_file> -o <output_file>`.\n",
    "\n",
    "We need to get the resample_swc file directory"
   ]
  },
  {
   "cell_type": "code",
   "execution_count": 3,
   "metadata": {},
   "outputs": [],
   "source": []
  },
  {
   "cell_type": "code",
   "execution_count": 4,
   "metadata": {},
   "outputs": [],
   "source": []
  },
  {
   "cell_type": "markdown",
   "metadata": {},
   "source": [
    "we check to see if the branch is at least as big as the target volume before we sample nodes from it.\n",
    "\n",
    "I tried minimum dimension cut-off of 25, but no branches met that criteria."
   ]
  },
  {
   "cell_type": "code",
   "execution_count": 7,
   "metadata": {},
   "outputs": [
    {
     "ename": "TypeError",
     "evalue": "join() argument must be str or bytes, not 'list'",
     "output_type": "error",
     "traceback": [
      "\u001b[0;31m---------------------------------------------------------------------------\u001b[0m",
      "\u001b[0;31mTypeError\u001b[0m                                 Traceback (most recent call last)",
      "\u001b[0;32m<ipython-input-7-f8950f99d14e>\u001b[0m in \u001b[0;36m<module>\u001b[0;34m()\u001b[0m\n\u001b[1;32m     11\u001b[0m \u001b[0;32mfor\u001b[0m \u001b[0mi\u001b[0m \u001b[0;32min\u001b[0m \u001b[0mrange\u001b[0m\u001b[0;34m(\u001b[0m\u001b[0mlen\u001b[0m\u001b[0;34m(\u001b[0m\u001b[0mfnames\u001b[0m\u001b[0;34m)\u001b[0m\u001b[0;34m)\u001b[0m\u001b[0;34m:\u001b[0m\u001b[0;34m\u001b[0m\u001b[0m\n\u001b[1;32m     12\u001b[0m     \u001b[0;31m# upsample the SWC\u001b[0m\u001b[0;34m\u001b[0m\u001b[0;34m\u001b[0m\u001b[0m\n\u001b[0;32m---> 13\u001b[0;31m     \u001b[0mupsampled_fpath\u001b[0m \u001b[0;34m=\u001b[0m \u001b[0mresample_swc\u001b[0m\u001b[0;34m(\u001b[0m\u001b[0mfnames\u001b[0m\u001b[0;34m,\u001b[0m \u001b[0mabs_paths\u001b[0m\u001b[0;34m[\u001b[0m\u001b[0mi\u001b[0m\u001b[0;34m]\u001b[0m\u001b[0;34m)\u001b[0m\u001b[0;34m\u001b[0m\u001b[0m\n\u001b[0m\u001b[1;32m     14\u001b[0m \u001b[0;34m\u001b[0m\u001b[0m\n",
      "\u001b[0;32m~/bin/vaa3d_tools/hackathon/profundo/data_processing/swc_io.py\u001b[0m in \u001b[0;36mresample_swc\u001b[0;34m(input_fname, input_fpath, output_dir)\u001b[0m\n\u001b[1;32m    109\u001b[0m         \u001b[0mos\u001b[0m\u001b[0;34m.\u001b[0m\u001b[0mmkdir\u001b[0m\u001b[0;34m(\u001b[0m\u001b[0moutput_dir\u001b[0m\u001b[0;34m)\u001b[0m\u001b[0;34m\u001b[0m\u001b[0m\n\u001b[1;32m    110\u001b[0m \u001b[0;34m\u001b[0m\u001b[0m\n\u001b[0;32m--> 111\u001b[0;31m     \u001b[0moutfile_fpath\u001b[0m \u001b[0;34m=\u001b[0m \u001b[0mos\u001b[0m\u001b[0;34m.\u001b[0m\u001b[0mpath\u001b[0m\u001b[0;34m.\u001b[0m\u001b[0mjoin\u001b[0m\u001b[0;34m(\u001b[0m\u001b[0moutput_dir\u001b[0m\u001b[0;34m,\u001b[0m \u001b[0minput_fname\u001b[0m\u001b[0;34m)\u001b[0m\u001b[0;34m\u001b[0m\u001b[0m\n\u001b[0m\u001b[1;32m    112\u001b[0m \u001b[0;34m\u001b[0m\u001b[0m\n\u001b[1;32m    113\u001b[0m     \u001b[0;31m# https://stackoverflow.com/a/4376421/4212158\u001b[0m\u001b[0;34m\u001b[0m\u001b[0;34m\u001b[0m\u001b[0m\n",
      "\u001b[0;32m~/bin/anaconda3/lib/python3.6/posixpath.py\u001b[0m in \u001b[0;36mjoin\u001b[0;34m(a, *p)\u001b[0m\n\u001b[1;32m     92\u001b[0m                 \u001b[0mpath\u001b[0m \u001b[0;34m+=\u001b[0m \u001b[0msep\u001b[0m \u001b[0;34m+\u001b[0m \u001b[0mb\u001b[0m\u001b[0;34m\u001b[0m\u001b[0m\n\u001b[1;32m     93\u001b[0m     \u001b[0;32mexcept\u001b[0m \u001b[0;34m(\u001b[0m\u001b[0mTypeError\u001b[0m\u001b[0;34m,\u001b[0m \u001b[0mAttributeError\u001b[0m\u001b[0;34m,\u001b[0m \u001b[0mBytesWarning\u001b[0m\u001b[0;34m)\u001b[0m\u001b[0;34m:\u001b[0m\u001b[0;34m\u001b[0m\u001b[0m\n\u001b[0;32m---> 94\u001b[0;31m         \u001b[0mgenericpath\u001b[0m\u001b[0;34m.\u001b[0m\u001b[0m_check_arg_types\u001b[0m\u001b[0;34m(\u001b[0m\u001b[0;34m'join'\u001b[0m\u001b[0;34m,\u001b[0m \u001b[0ma\u001b[0m\u001b[0;34m,\u001b[0m \u001b[0;34m*\u001b[0m\u001b[0mp\u001b[0m\u001b[0;34m)\u001b[0m\u001b[0;34m\u001b[0m\u001b[0m\n\u001b[0m\u001b[1;32m     95\u001b[0m         \u001b[0;32mraise\u001b[0m\u001b[0;34m\u001b[0m\u001b[0m\n\u001b[1;32m     96\u001b[0m     \u001b[0;32mreturn\u001b[0m \u001b[0mpath\u001b[0m\u001b[0;34m\u001b[0m\u001b[0m\n",
      "\u001b[0;32m~/bin/anaconda3/lib/python3.6/genericpath.py\u001b[0m in \u001b[0;36m_check_arg_types\u001b[0;34m(funcname, *args)\u001b[0m\n\u001b[1;32m    147\u001b[0m         \u001b[0;32melse\u001b[0m\u001b[0;34m:\u001b[0m\u001b[0;34m\u001b[0m\u001b[0m\n\u001b[1;32m    148\u001b[0m             raise TypeError('%s() argument must be str or bytes, not %r' %\n\u001b[0;32m--> 149\u001b[0;31m                             (funcname, s.__class__.__name__)) from None\n\u001b[0m\u001b[1;32m    150\u001b[0m     \u001b[0;32mif\u001b[0m \u001b[0mhasstr\u001b[0m \u001b[0;32mand\u001b[0m \u001b[0mhasbytes\u001b[0m\u001b[0;34m:\u001b[0m\u001b[0;34m\u001b[0m\u001b[0m\n\u001b[1;32m    151\u001b[0m         \u001b[0;32mraise\u001b[0m \u001b[0mTypeError\u001b[0m\u001b[0;34m(\u001b[0m\u001b[0;34m\"Can't mix strings and bytes in path components\"\u001b[0m\u001b[0;34m)\u001b[0m \u001b[0;32mfrom\u001b[0m \u001b[0;32mNone\u001b[0m\u001b[0;34m\u001b[0m\u001b[0m\n",
      "\u001b[0;31mTypeError\u001b[0m: join() argument must be str or bytes, not 'list'"
     ]
    }
   ],
   "source": [
    "from swc_io import get_fnames_and_abspath_from_dir, swc_to_dframe, resample_swc, dframe_to_swc\n",
    "import numpy as np\n",
    "import pandas as pd\n",
    "\n",
    "\n",
    "BRANCHES_DIR = \"../data/03_human_branches_splitted\"\n",
    "UPSAMPLED_BRANCHES_DIR = \"../data/04_human_branches_filtered_upsampled\"\n",
    "\n",
    "fnames, abs_paths = get_fnames_and_abspath_from_dir(BRANCHES_DIR)\n",
    "total_dim = 0\n",
    "for i in range(len(fnames)):\n",
    "    # upsample the SWC\n",
    "    upsampled_fpath = resample_swc(fnames, abs_paths[i])\n",
    "  "
   ]
  },
  {
   "cell_type": "code",
   "execution_count": null,
   "metadata": {},
   "outputs": [],
   "source": [
    "# tested size 25, but no branches met this criteria\n",
    "TARGET_DIM_SIZE = 10.  # size in pixels for all x,y,z dims\n",
    "half_size = TARGET_DIM_SIZE / 2\n",
    "#min_swc_dim_span = TARGET_DIM_SIZE + 5  # some leeway to make things easy\n",
    "padding = TARGET_DIM_SIZE//2\n",
    "\n",
    "print(\"filtering branches that have any dimension smaller than \", TARGET_DIM_SIZE)\n",
    "\n",
    "fnames, abs_paths = get_fnames_and_abspath_from_dir(UPSAMPLED_BRANCHES_DIR)\n",
    "total_dim = 0\n",
    "for i in range(len(fnames)):\n",
    "    \n",
    "        # replace nodes with our upsampled nodes\n",
    "        nodes = swc_to_dframe(upsampled_fpath)\n",
    "    \n",
    "    if i % 1000 == 0 and i != 0: print(\"testing branch #\", i, \"avg span: \", total_dim/i/3)\n",
    "    nodes = swc_to_dframe(abs_paths[i])\n",
    "    assert(isinstance(nodes, pd.DataFrame))\n",
    "    \n",
    "    x_span = nodes.x.max() - nodes.x.min()\n",
    "    y_span = nodes.y.max() - nodes.y.min()\n",
    "    z_span = nodes.z.max() - nodes.z.min()\n",
    "    \n",
    "    total_dim = total_dim + x_span + y_span + z_span\n",
    "    \n",
    "    dim_size_good = np.array([x_span, y_span, z_span]) > TARGET_DIM_SIZE\n",
    "    if z_span > TARGET_DIM_SIZE:   print(\"found z bigger than {}: {}\".format(int(TARGET_DIM_SIZE), z_span))\n",
    "    if np.all(dim_size_good):  # our SWC meets our criteria\n",
    "        print(\"{} is big enough\".format(i))\n",
    "        \n",
    "        # upsample the SWC\n",
    "        upsampled_fpath = resample_swc(fnames, abs_paths[i])\n",
    "        # replace nodes with our upsampled nodes\n",
    "        nodes = swc_to_dframe(upsampled_fpath)\n",
    "        \n",
    "        # find nodes far enough away from bounds\n",
    "        central_nodes = nodes.loc[(nodes.x.between(nodes.x.min()+padding,nodes.x.max()+padding)) &\n",
    "                              (nodes.y.between(nodes.y.min()+padding,nodes.y.max()+padding)) &\n",
    "                              (nodes.z.between(nodes.z.min()+padding,nodes.z.max()+padding))]\n",
    "        \n",
    "        if len(central_nodes) > 0:\n",
    "            # sample a central node\n",
    "            center_node = central_nodes.sample(n=1)\n",
    "            # grab all nodes in neighborhood of center_node\n",
    "            sample = nodes.loc[(nodes.x.between(center_node.x.item()-half_size, center_node.x.item()+half_size)) &\n",
    "                              (nodes.y.between(center_node.y.item()-half_size, center_node.y.item()+half_size)) &\n",
    "                              (nodes.z.between(center_node.z.item()-half_size, center_node.z.item()+half_size))]\n",
    "            \n",
    "            # save sample to swc\n",
    "            print(\"saving \", fnames[i])\n",
    "            dframe_to_swc(fnames[i], sample)\n",
    "    else:  # SWC does not have large enough dims\n",
    "        #print(\"dims too small \", x_span, y_span, z_span) \n",
    "        pass\n",
    "    \n",
    "    "
   ]
  },
  {
   "cell_type": "markdown",
   "metadata": {},
   "source": [
    "Next, we want to only randomly sample from nodes sufficiently far away from the boundary"
   ]
  },
  {
   "cell_type": "code",
   "execution_count": 15,
   "metadata": {},
   "outputs": [],
   "source": [
    "# sample from the SWC\n",
    "# first, we won't pick nodes too close to the edges\n",
    "#filtered_nodes = np.where()\n",
    "#print(\"dim sizes are good\")\n",
    "\n",
    "for swc_file in good_swc_paths[:1]: # TODO remove slice\n",
    "    nodes = good_swcs[swc_file]\n",
    "    good_nodes = "
   ]
  },
  {
   "cell_type": "code",
   "execution_count": null,
   "metadata": {},
   "outputs": [],
   "source": []
  }
 ],
 "metadata": {
  "kernelspec": {
   "display_name": "Python 3",
   "language": "python",
   "name": "python3"
  },
  "language_info": {
   "codemirror_mode": {
    "name": "ipython",
    "version": 3
   },
   "file_extension": ".py",
   "mimetype": "text/x-python",
   "name": "python",
   "nbconvert_exporter": "python",
   "pygments_lexer": "ipython3",
   "version": "3.6.5"
  },
  "latex_envs": {
   "LaTeX_envs_menu_present": true,
   "autoclose": false,
   "autocomplete": true,
   "bibliofile": "biblio.bib",
   "cite_by": "apalike",
   "current_citInitial": 1,
   "eqLabelWithNumbers": true,
   "eqNumInitial": 1,
   "hotkeys": {
    "equation": "Ctrl-E",
    "itemize": "Ctrl-I"
   },
   "labels_anchors": false,
   "latex_user_defs": false,
   "report_style_numbering": false,
   "user_envs_cfg": false
  }
 },
 "nbformat": 4,
 "nbformat_minor": 2
}
