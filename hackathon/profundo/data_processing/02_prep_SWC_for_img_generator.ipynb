{
 "cells": [
  {
   "cell_type": "markdown",
   "metadata": {},
   "source": [
    "We want the neural net to be given the same size volume at each episode.\n",
    "\n",
    "\n",
    "\n",
    "First, we upsample the SWC files to make sure to get rid of huge inter-node distances, which can cause problems when trying to render a volume."
   ]
  },
  {
   "cell_type": "code",
   "execution_count": null,
   "metadata": {},
   "outputs": [],
   "source": [
    "# TODO"
   ]
  },
  {
   "cell_type": "markdown",
   "metadata": {},
   "source": [
    "we check to see if the branch is at least as big as the target volume before we sample nodes from it."
   ]
  },
  {
   "cell_type": "code",
   "execution_count": 19,
   "metadata": {},
   "outputs": [],
   "source": [
    "from swc_io import get_fnames_and_abspath_from_dir, swc_to_dframe\n",
    "import numpy as np\n",
    "import pandas as pd\n",
    "\n",
    "TARGET_DIM_SIZE = 25  # size in pixels for all x,y,z dims\n",
    "half_size = TARGET_DIM_SIZE / 2\n",
    "min_swc_dim_span = TARGET_DIM_SIZE + 5  # some leeway to make things easy\n",
    "padding = min_swc_dim_span//2\n",
    "\n",
    "BRANCHES_DIR = \"../data/03_human_branches_splitted\"\n",
    "\n",
    "fnames, abs_paths = get_fnames_and_abspath_from_dir(BRANCHES_DIR)\n",
    "good_swc_paths = []\n",
    "good_swcs = {}\n",
    "for file in abs_paths:\n",
    "    nodes = swc_to_dframe(file)\n",
    "    assert(isinstance(nodes, pd.DataFrame))\n",
    "    \n",
    "    x_span = nodes.x.max() - nodes.x.min()\n",
    "    y_span = nodes.y.max() - nodes.y.min()\n",
    "    z_span = nodes.z.max() - nodes.z.min()\n",
    "    \n",
    "    dim_size_good = np.array([x_span, y_span, z_span]) > min_swc_dim_span\n",
    "    if np.all(dim_size_good):  # our SWC meets our criteria\n",
    "        \n",
    "        # TODO: resample SWCs here\n",
    "        # use resample_swc script\n",
    "        \n",
    "        good_swc_paths.append(file)\n",
    "        good_swcs[file] = nodes\n",
    "        good_nodes = nodes.loc[(nodes.x.between(nodes.x.min()+padding,nodes.x.max()+padding)) &\n",
    "                              (nodes.y.between(nodes.y.min()+padding,nodes.y.max()+padding)) &\n",
    "                              (nodes.z.between(nodes.z.min()+padding,nodes.z.max()+padding))]\n",
    "        if len(good_nodes) > 0:\n",
    "            # grab all nodes in neighborhood around sampled node\n",
    "            center_node = good_nodes.sample(n=1)\n",
    "            #print(center_node.x.item())\n",
    "            sample = nodes.loc[(nodes.x.between(center_node.x.item()-half_size, center_node.x.item()+half_size)) &\n",
    "                              (nodes.y.between(center_node.y.item()-half_size, center_node.y.item()+half_size)) &\n",
    "                              (nodes.z.between(center_node.z.item()-half_size, center_node.z.item()+half_size))]\n",
    "        #print(nodes.size, good_nodes.size)\n",
    "        # TODO : if no good nodes, pass\n",
    "    else:\n",
    "        #print(\"dims too small \", x_span, y_span, z_span) \n",
    "        pass\n",
    "    \n",
    "    "
   ]
  },
  {
   "cell_type": "markdown",
   "metadata": {},
   "source": [
    "Next, we want to only randomly sample from nodes sufficiently far away from the boundary"
   ]
  },
  {
   "cell_type": "code",
   "execution_count": 15,
   "metadata": {},
   "outputs": [],
   "source": [
    "# sample from the SWC\n",
    "# first, we won't pick nodes too close to the edges\n",
    "#filtered_nodes = np.where()\n",
    "#print(\"dim sizes are good\")\n",
    "\n",
    "for swc_file in good_swc_paths[:1]: # TODO remove slice\n",
    "    nodes = good_swcs[swc_file]\n",
    "    good_nodes = "
   ]
  },
  {
   "cell_type": "code",
   "execution_count": null,
   "metadata": {},
   "outputs": [],
   "source": []
  }
 ],
 "metadata": {
  "kernelspec": {
   "display_name": "Python 3",
   "language": "python",
   "name": "python3"
  },
  "language_info": {
   "codemirror_mode": {
    "name": "ipython",
    "version": 3
   },
   "file_extension": ".py",
   "mimetype": "text/x-python",
   "name": "python",
   "nbconvert_exporter": "python",
   "pygments_lexer": "ipython3",
   "version": "3.6.4"
  },
  "latex_envs": {
   "LaTeX_envs_menu_present": true,
   "autoclose": false,
   "autocomplete": true,
   "bibliofile": "biblio.bib",
   "cite_by": "apalike",
   "current_citInitial": 1,
   "eqLabelWithNumbers": true,
   "eqNumInitial": 1,
   "hotkeys": {
    "equation": "Ctrl-E",
    "itemize": "Ctrl-I"
   },
   "labels_anchors": false,
   "latex_user_defs": false,
   "report_style_numbering": false,
   "user_envs_cfg": false
  }
 },
 "nbformat": 4,
 "nbformat_minor": 2
}
