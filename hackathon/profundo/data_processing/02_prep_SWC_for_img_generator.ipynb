{
 "cells": [
  {
   "cell_type": "markdown",
   "metadata": {},
   "source": [
    "We want the neural net to be given the same size volume at each episode.\n",
    "\n",
    "First, we check to see if the branch is at least as big as the target volume before we sample nodes from it."
   ]
  },
  {
   "cell_type": "code",
   "execution_count": null,
   "metadata": {},
   "outputs": [],
   "source": []
  },
  {
   "cell_type": "code",
   "execution_count": 7,
   "metadata": {},
   "outputs": [
    {
     "name": "stdout",
     "output_type": "stream",
     "text": [
      "f /home/shit/bin/allen/vaa3d_tools/hackathon/profundo/data/03_human_branches_splitted/038_06092018.ano.swc_root2270433_child2270432.swc\n",
      "[[2270433.      21322.889   11924.667    5228.753]\n",
      " [2270432.      21322.297   11924.667    5228.605]\n",
      " [2270431.      21322.1     11923.63     5228.556]\n",
      " [2270430.      21322.      11920.223    5228.309]\n",
      " [2270429.      21321.334   11914.667    5226.531]\n",
      " [2270428.      21316.666   11909.556    5226.309]\n",
      " [2270427.      21314.666   11905.333    5224.531]\n",
      " [2270426.      21312.666   11901.333    5224.531]\n",
      " [2270425.      21311.334   11894.667    5224.531]\n",
      " [2270424.      21310.      11891.333    5223.197]\n",
      " [2270423.      21310.223   11884.223    5222.53 ]\n",
      " [2270422.      21312.      11878.223    5222.308]\n",
      " [2270421.      21312.      11873.777    5220.752]\n",
      " [2270420.      21312.      11858.       5220.53 ]\n",
      " [2270419.      21310.223   11852.       5220.308]\n",
      " [2270418.      21309.777   11846.223    5218.53 ]\n",
      " [2270417.      21308.223   11841.777    5218.53 ]\n",
      " [2270416.      21308.      11838.223    5218.308]\n",
      " [2270415.      21306.666   11835.111    5216.752]\n",
      " [2270414.      21306.      11832.       5216.53 ]\n",
      " [2270413.      21306.      11825.777    5214.752]\n",
      " [2270412.      21306.      11818.223    5214.308]\n",
      " [2270411.      21306.      11812.       5212.529]]\n"
     ]
    }
   ],
   "source": [
    "from swc_io import get_fnames_and_abspath_from_dir, swc_to_nparray\n",
    "\n",
    "TARGET_DIM_SIZE = 25  # size in pixels for all x,y,z dims\n",
    "min_swc_dim_span = TARGET_DIM_SIZE+2  # some padding to make things easy\n",
    "\n",
    "BRANCHES_DIR = \"../data/03_human_branches_splitted\"\n",
    "\n",
    "fnames, abs_paths = get_fnames_and_abspath_from_dir(BRANCHES_DIR)\n",
    "for file in abs_paths[:1]:  # TODO: get rid of slice\n",
    "    print(\"f\", file)\n",
    "    nodes = swc_to_nparray(file)\n",
    "    print(nodes)\n"
   ]
  },
  {
   "cell_type": "code",
   "execution_count": 3,
   "metadata": {},
   "outputs": [
    {
     "name": "stdout",
     "output_type": "stream",
     "text": [
      "61228\n"
     ]
    }
   ],
   "source": [
    "print(len(fnames))"
   ]
  },
  {
   "cell_type": "code",
   "execution_count": null,
   "metadata": {},
   "outputs": [],
   "source": []
  }
 ],
 "metadata": {
  "kernelspec": {
   "display_name": "Python 3",
   "language": "python",
   "name": "python3"
  },
  "language_info": {
   "codemirror_mode": {
    "name": "ipython",
    "version": 3
   },
   "file_extension": ".py",
   "mimetype": "text/x-python",
   "name": "python",
   "nbconvert_exporter": "python",
   "pygments_lexer": "ipython3",
   "version": "3.6.4"
  },
  "latex_envs": {
   "LaTeX_envs_menu_present": true,
   "autoclose": false,
   "autocomplete": true,
   "bibliofile": "biblio.bib",
   "cite_by": "apalike",
   "current_citInitial": 1,
   "eqLabelWithNumbers": true,
   "eqNumInitial": 1,
   "hotkeys": {
    "equation": "Ctrl-E",
    "itemize": "Ctrl-I"
   },
   "labels_anchors": false,
   "latex_user_defs": false,
   "report_style_numbering": false,
   "user_envs_cfg": false
  }
 },
 "nbformat": 4,
 "nbformat_minor": 2
}
