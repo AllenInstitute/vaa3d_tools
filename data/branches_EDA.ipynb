{
 "cells": [
  {
   "cell_type": "markdown",
   "metadata": {},
   "source": [
    "Questions:\n",
    "\n",
    "What is distribution of volume spanned by single branch?\n",
    "What is distribution of node spacing?\n",
    "What is distribution of radii?\n",
    "What is distribution of total nodes in a branch?\n",
    "What is distribution of total nodes in a cell?"
   ]
  },
  {
   "cell_type": "markdown",
   "metadata": {},
   "source": [
    "for each file\n",
    "\n",
    "read line by line\n",
    "extract coords\n",
    "calc euclidean distance from prev point\n",
    "keep track of min, max x/y/z\n",
    "return span of x/y/z\n",
    "calculate volume"
   ]
  },
  {
   "cell_type": "code",
   "execution_count": 3,
   "metadata": {},
   "outputs": [],
   "source": [
    "import os\n",
    "\n",
    "# get human trajectories\n",
    "fnames = []\n",
    "abs_paths = []\n",
    "for root, dirs, fnames_ in os.walk(\"../data/human_splitted/\"):\n",
    "    fnames.extend(fnames_)\n",
    "    for f in fnames_:\n",
    "        relpath = os.path.join(root, f)\n",
    "        abs_path = os.path.abspath(relpath)\n",
    "        abs_paths.append(abs_path)\n"
   ]
  },
  {
   "cell_type": "code",
   "execution_count": 5,
   "metadata": {},
   "outputs": [
    {
     "name": "stdout",
     "output_type": "stream",
     "text": [
      "ve 139 ['2270433', '3', '21322.889', '11924.667', '5228.753', '1.0', '-12270432', '3', '21322.297', '11924.667', '5228.605', '1.0', '22704332270431', '3', '21322.100', '11923.630', '5228.556', '1.0', '22704322270430', '3', '21322.000', '11920.223', '5228.309', '1.0', '22704312270429', '3', '21321.334', '11914.667', '5226.531', '1.0', '22704302270428', '3', '21316.666', '11909.556', '5226.309', '1.0', '22704292270427', '3', '21314.666', '11905.333', '5224.531', '1.0', '22704282270426', '3', '21312.666', '11901.333', '5224.531', '1.0', '22704272270425', '3', '21311.334', '11894.667', '5224.531', '1.0', '22704262270424', '3', '21310.000', '11891.333', '5223.197', '1.0', '22704252270423', '3', '21310.223', '11884.223', '5222.530', '1.0', '22704242270422', '3', '21312.000', '11878.223', '5222.308', '1.0', '22704232270421', '3', '21312.000', '11873.777', '5220.752', '1.0', '22704222270420', '3', '21312.000', '11858.000', '5220.530', '1.0', '22704212270419', '3', '21310.223', '11852.000', '5220.308', '1.0', '22704202270418', '3', '21309.777', '11846.223', '5218.530', '1.0', '22704192270417', '3', '21308.223', '11841.777', '5218.530', '1.0', '22704182270416', '3', '21308.000', '11838.223', '5218.308', '1.0', '22704172270415', '3', '21306.666', '11835.111', '5216.752', '1.0', '22704162270414', '3', '21306.000', '11832.000', '5216.530', '1.0', '22704152270413', '3', '21306.000', '11825.777', '5214.752', '1.0', '22704142270412', '3', '21306.000', '11818.223', '5214.308', '1.0', '22704132270411', '3', '21306.000', '11812.000', '5212.529', '1.0', '2270412']\n"
     ]
    },
    {
     "ename": "NameError",
     "evalue": "name 'x_coord' is not defined",
     "output_type": "error",
     "traceback": [
      "\u001b[0;31m---------------------------------------------------------------------------\u001b[0m",
      "\u001b[0;31mNameError\u001b[0m                                 Traceback (most recent call last)",
      "\u001b[0;32m<ipython-input-5-0a8fd986454a>\u001b[0m in \u001b[0;36m<module>\u001b[0;34m()\u001b[0m\n\u001b[1;32m     22\u001b[0m         \u001b[0;32mexcept\u001b[0m \u001b[0mValueError\u001b[0m\u001b[0;34m:\u001b[0m\u001b[0;34m\u001b[0m\u001b[0m\n\u001b[1;32m     23\u001b[0m             \u001b[0mprint\u001b[0m\u001b[0;34m(\u001b[0m\u001b[0;34m\"ve\"\u001b[0m\u001b[0;34m,\u001b[0m \u001b[0mlen\u001b[0m\u001b[0;34m(\u001b[0m\u001b[0mline\u001b[0m\u001b[0;34m.\u001b[0m\u001b[0msplit\u001b[0m\u001b[0;34m(\u001b[0m\u001b[0;34m)\u001b[0m\u001b[0;34m)\u001b[0m\u001b[0;34m,\u001b[0m \u001b[0mline\u001b[0m\u001b[0;34m.\u001b[0m\u001b[0msplit\u001b[0m\u001b[0;34m(\u001b[0m\u001b[0;34m)\u001b[0m\u001b[0;34m)\u001b[0m\u001b[0;34m\u001b[0m\u001b[0m\n\u001b[0;32m---> 24\u001b[0;31m         \u001b[0;32mif\u001b[0m \u001b[0mx_coord\u001b[0m \u001b[0;34m<\u001b[0m \u001b[0mmin_x\u001b[0m\u001b[0;34m:\u001b[0m\u001b[0;34m\u001b[0m\u001b[0m\n\u001b[0m\u001b[1;32m     25\u001b[0m             \u001b[0mmin_x\u001b[0m \u001b[0;34m=\u001b[0m \u001b[0mx_coord\u001b[0m\u001b[0;34m\u001b[0m\u001b[0m\n\u001b[1;32m     26\u001b[0m         \u001b[0;32melif\u001b[0m \u001b[0mx_coord\u001b[0m \u001b[0;34m>\u001b[0m \u001b[0mmax_x\u001b[0m\u001b[0;34m:\u001b[0m\u001b[0;34m\u001b[0m\u001b[0m\n",
      "\u001b[0;31mNameError\u001b[0m: name 'x_coord' is not defined"
     ]
    }
   ],
   "source": [
    "import numpy as np\n",
    "\n",
    "dim_spans = []\n",
    "node_distances = []\n",
    "volumes = []\n",
    "radii = []\n",
    "\n",
    "for fpath in abs_paths:  # for each branch\n",
    "    min_x = np.inf\n",
    "    min_y = np.inf\n",
    "    min_z = np.inf\n",
    "    max_x = -np.inf\n",
    "    max_y = -np.inf\n",
    "    max_z = -np.inf\n",
    "    \n",
    "    input = open(fpath, \"r\")\n",
    "    prev = None  # the previous node\n",
    "    for line in input:  # for each node\n",
    "        # note: if the parent node is -1, then the child_node_id is the true identity of the root node\n",
    "        try:\n",
    "            _, _, x_coord, y_coord, z_coord, radius, _ = line.split()\n",
    "        except ValueError:\n",
    "            print(\"ve\", len(line.split()), line.split())\n",
    "        if x_coord < min_x:\n",
    "            min_x = x_coord\n",
    "        elif x_coord > max_x:\n",
    "            max_x = x_coord\n",
    "        if y_coord < min_x:\n",
    "            min_y = y_coord\n",
    "        elif y_coord > max_y:\n",
    "            max_y = y_coord\n",
    "        if z_coord < min_z:\n",
    "            min_z = z_coord\n",
    "        elif z_coord > max_z:\n",
    "            max_z = z_coord\n",
    "            \n",
    "        if prev_node is not None:\n",
    "            distance = np.sqrt((x_coord-prev[\"x\"])**2 +\n",
    "                              (y_coord-prev[\"y\"]**2) +\n",
    "                              (z_coord-prev[\"z\"])**2)\n",
    "            \n",
    "        node_distances.append(distance)\n",
    "        radii.append(radius)\n",
    "            \n",
    "        prev = {\"x\": x_coord, \"y\": y_coord, \"z\": z_coord}  # replace prev_node\n",
    "        \n",
    "    x_span = max_x - min_x\n",
    "    y_span = max_y - min_y\n",
    "    z_span = max_z - min_z\n",
    "    volume = x_span * y_span * z_span\n",
    "    \n",
    "    volumes.append(volume)\n",
    "    dim_spans.extend([x_span, y_span, z_span])\n",
    "            \n",
    "    input.close()"
   ]
  },
  {
   "cell_type": "code",
   "execution_count": null,
   "metadata": {},
   "outputs": [],
   "source": []
  }
 ],
 "metadata": {
  "kernelspec": {
   "display_name": "Python 3",
   "language": "python",
   "name": "python3"
  },
  "language_info": {
   "codemirror_mode": {
    "name": "ipython",
    "version": 3
   },
   "file_extension": ".py",
   "mimetype": "text/x-python",
   "name": "python",
   "nbconvert_exporter": "python",
   "pygments_lexer": "ipython3",
   "version": "3.6.4"
  }
 },
 "nbformat": 4,
 "nbformat_minor": 2
}
